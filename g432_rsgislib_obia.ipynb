{
 "cells": [
  {
   "cell_type": "markdown",
   "metadata": {},
   "source": [
    "# OBIA using rsgislib\n",
    "Find link [here](https://spectraldifferences.wordpress.com/2014/07/03/a-python-based-open-source-system-for-geographic-object-based-image-analysis-geobia-utilizing-raster-attribute-tables-bonus-features/)"
   ]
  },
  {
   "cell_type": "code",
   "execution_count": 1,
   "metadata": {
    "collapsed": false
   },
   "outputs": [
    {
     "name": "stdout",
     "output_type": "stream",
     "text": [
      "Stretch Input Image\n",
      "Add 1 to stretched file to ensure there are no all zeros (i.e., no data) regions created.\n",
      "Create Input Image Mask.\n",
      "Mask stretched Image.\n",
      "Deleting file: ./vmsk_clipped_stchdonly.kea\n",
      "Deleting file: ./vmsk_clipped_stchdonlyOff.kea\n",
      "Deleting file: ./vmsk_clipped_stchdmaskonly.kea\n",
      "Performing KMeans.\n",
      "Apply KMeans to image.\n",
      "Eliminate Single Pixels.\n",
      "Perform clump.\n",
      "Eliminate small pixels.\n",
      "Relabel clumps.\n",
      "Calculate image statistics and build pyramids.\n",
      "Deleting file: ./vmsk_clipped_kmeansclusters.gmtxt\n",
      "Deleting file: ./vmsk_clipped_kmeans.kea\n",
      "Deleting file: ./vmsk_clipped_kmeans.kea.aux.xml\n",
      "Deleting file: ./vmsk_clipped_kmeans_nosgl.kea\n",
      "Deleting file: ./vmsk_clipped_kmeans_nosglTMP.kea\n",
      "Deleting file: ./vmsk_clipped_clumps.kea\n",
      "Deleting file: ./vmsk_clipped_clumps_elim.kea\n",
      "Deleting file: ./vmsk_clipped_stchd.kea\n"
     ]
    }
   ],
   "source": [
    "from rsgislib.segmentation import segutils\n",
    "  \n",
    "inputImage = 'landsat8/vmsk_clipped.tif'\n",
    "clumpsFile = 'clumps_out.kea'\n",
    "   \n",
    "# Run segmentation\n",
    "segutils.runShepherdSegmentation(inputImage, clumpsFile,\n",
    "                           numClusters=60, minPxls=100, \n",
    "                           distThres=100, bands=None, \n",
    "                           sampling=100, kmMaxIter=200)"
   ]
  },
  {
   "cell_type": "code",
   "execution_count": 3,
   "metadata": {
    "collapsed": false
   },
   "outputs": [
    {
     "data": {
      "text/plain": [
       "b''"
      ]
     },
     "execution_count": 3,
     "metadata": {},
     "output_type": "execute_result"
    }
   ],
   "source": [
    "import subprocess\n",
    "\n",
    "# Open in tuiview, \n",
    "subprocess.check_output('tuiview %s' % clumpsFile, shell=True)\n"
   ]
  },
  {
   "cell_type": "code",
   "execution_count": null,
   "metadata": {
    "collapsed": true
   },
   "outputs": [],
   "source": []
  }
 ],
 "metadata": {
  "anaconda-cloud": {},
  "kernelspec": {
   "display_name": "Python [conda env:osgeoenv]",
   "language": "python",
   "name": "conda-env-osgeoenv-py"
  },
  "language_info": {
   "codemirror_mode": {
    "name": "ipython",
    "version": 3
   },
   "file_extension": ".py",
   "mimetype": "text/x-python",
   "name": "python",
   "nbconvert_exporter": "python",
   "pygments_lexer": "ipython3",
   "version": "3.5.2"
  }
 },
 "nbformat": 4,
 "nbformat_minor": 1
}
